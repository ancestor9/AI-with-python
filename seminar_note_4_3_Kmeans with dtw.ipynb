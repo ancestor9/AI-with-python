{
 "cells": [
  {
   "cell_type": "markdown",
   "metadata": {},
   "source": [
    "#  <font color='dark gary'> K-Means with dynamic time warping Anomaly detection method\n",
    "## Tslearn, A Machine Learning Toolkit for Time Series Data\n",
    "- https://towardsdatascience.com/how-to-apply-k-means-clustering-to-time-series-data-28d04a8f7da3\n",
    "- https://www.jmlr.org/papers/volume21/20-091/20-091.pdf"
   ]
  },
  {
   "cell_type": "code",
   "execution_count": 1,
   "metadata": {},
   "outputs": [
    {
     "data": {
      "text/html": [
       "<style>.container { width:100% !important; }</style>"
      ],
      "text/plain": [
       "<IPython.core.display.HTML object>"
      ]
     },
     "metadata": {},
     "output_type": "display_data"
    }
   ],
   "source": [
    "from IPython.core.display import display, HTML\n",
    "display(HTML(\"<style>.container { width:100% !important; }</style>\"))\n",
    "from IPython.core.interactiveshell import InteractiveShell\n",
    "InteractiveShell.ast_node_interactivity = 'all'\n",
    "import warnings\n",
    "warnings.filterwarnings('ignore')\n",
    "import pandas as pd\n",
    "import numpy as np\n",
    "import matplotlib.pyplot as plt\n",
    "import seaborn as sns; sns.set()\n",
    "get_ipython().run_line_magic('matplotlib', 'inline')"
   ]
  },
  {
   "cell_type": "markdown",
   "metadata": {},
   "source": [
    "## 3. DTW  알고리즘\n",
    "\n",
    "### what is dynamic time warping?\n",
    "- https://en.wikipedia.org/wiki/Dynamic_time_warping\n",
    "- https://dinhanhthi.com/dynamic-time-warping-dtw/\n",
    "<img src = 'https://dinhanhthi.com/img/post/time-series/Euclidean-distance-vs-DTW-1280w.webp'>\n",
    "<img src = 'https://dinhanhthi.com/img/post/time-series/dtw-example-1280w.webp'>"
   ]
  },
  {
   "cell_type": "markdown",
   "metadata": {},
   "source": [
    "## Installation"
   ]
  },
  {
   "cell_type": "markdown",
   "metadata": {},
   "source": [
    "##conda install -c conda-forge tslearn"
   ]
  },
  {
   "cell_type": "markdown",
   "metadata": {},
   "source": [
    "## tslearn (code on github)\n",
    "- https://tslearn.readthedocs.io/en/stable/index.html#\n",
    "#### tslearn은 3 tensor 데이터를 기본\n",
    "tslearn expects a time series dataset to be formatted as a 3D numpy array. The three dimensions correspond to the number of time series, the number of measurements per time series and the number of dimensions respectively (n_ts, max_sz, d). In order to get the data in the right format, different solutions exist:"
   ]
  },
  {
   "cell_type": "code",
   "execution_count": 2,
   "metadata": {},
   "outputs": [
    {
     "name": "stdout",
     "output_type": "stream",
     "text": [
      "원자료의 크기와 차원 : (4, 9, 1)\n"
     ]
    },
    {
     "data": {
      "text/html": [
       "<div>\n",
       "<style scoped>\n",
       "    .dataframe tbody tr th:only-of-type {\n",
       "        vertical-align: middle;\n",
       "    }\n",
       "\n",
       "    .dataframe tbody tr th {\n",
       "        vertical-align: top;\n",
       "    }\n",
       "\n",
       "    .dataframe thead th {\n",
       "        text-align: right;\n",
       "    }\n",
       "</style>\n",
       "<table border=\"1\" class=\"dataframe\">\n",
       "  <thead>\n",
       "    <tr style=\"text-align: right;\">\n",
       "      <th></th>\n",
       "      <th>time1</th>\n",
       "      <th>time2</th>\n",
       "      <th>time3</th>\n",
       "      <th>time4</th>\n",
       "      <th>time5</th>\n",
       "      <th>time6</th>\n",
       "      <th>time7</th>\n",
       "      <th>time8</th>\n",
       "      <th>time9</th>\n",
       "    </tr>\n",
       "  </thead>\n",
       "  <tbody>\n",
       "    <tr>\n",
       "      <th>obs1</th>\n",
       "      <td>1.0</td>\n",
       "      <td>2.0</td>\n",
       "      <td>3.0</td>\n",
       "      <td>4.0</td>\n",
       "      <td>5.0</td>\n",
       "      <td>NaN</td>\n",
       "      <td>NaN</td>\n",
       "      <td>NaN</td>\n",
       "      <td>NaN</td>\n",
       "    </tr>\n",
       "    <tr>\n",
       "      <th>obs2</th>\n",
       "      <td>0.0</td>\n",
       "      <td>0.0</td>\n",
       "      <td>0.0</td>\n",
       "      <td>0.0</td>\n",
       "      <td>1.0</td>\n",
       "      <td>2.0</td>\n",
       "      <td>3.0</td>\n",
       "      <td>4.0</td>\n",
       "      <td>5.0</td>\n",
       "    </tr>\n",
       "    <tr>\n",
       "      <th>obs3</th>\n",
       "      <td>0.0</td>\n",
       "      <td>10.0</td>\n",
       "      <td>20.0</td>\n",
       "      <td>30.0</td>\n",
       "      <td>40.0</td>\n",
       "      <td>50.0</td>\n",
       "      <td>0.0</td>\n",
       "      <td>NaN</td>\n",
       "      <td>NaN</td>\n",
       "    </tr>\n",
       "    <tr>\n",
       "      <th>obs4</th>\n",
       "      <td>0.0</td>\n",
       "      <td>0.0</td>\n",
       "      <td>6.0</td>\n",
       "      <td>7.0</td>\n",
       "      <td>8.0</td>\n",
       "      <td>9.0</td>\n",
       "      <td>0.0</td>\n",
       "      <td>0.0</td>\n",
       "      <td>0.0</td>\n",
       "    </tr>\n",
       "  </tbody>\n",
       "</table>\n",
       "</div>"
      ],
      "text/plain": [
       "      time1  time2  time3  time4  time5  time6  time7  time8  time9\n",
       "obs1    1.0    2.0    3.0    4.0    5.0    NaN    NaN    NaN    NaN\n",
       "obs2    0.0    0.0    0.0    0.0    1.0    2.0    3.0    4.0    5.0\n",
       "obs3    0.0   10.0   20.0   30.0   40.0   50.0    0.0    NaN    NaN\n",
       "obs4    0.0    0.0    6.0    7.0    8.0    9.0    0.0    0.0    0.0"
      ]
     },
     "execution_count": 2,
     "metadata": {},
     "output_type": "execute_result"
    },
    {
     "data": {
      "text/plain": [
       "<AxesSubplot:>"
      ]
     },
     "execution_count": 2,
     "metadata": {},
     "output_type": "execute_result"
    },
    {
     "data": {
      "image/png": "[encoded data removed]",
      "text/plain": [
       "<Figure size 1080x216 with 1 Axes>"
      ]
     },
     "metadata": {
      "needs_background": "light"
     },
     "output_type": "display_data"
    }
   ],
   "source": [
    "from tslearn.utils import to_time_series_dataset\n",
    "sample = np.array([[1,2,3,4,5], [0,0,0,0,1,2,3,4,5], [0,10,20,30,40,50,0], [0,0,6,7,8,9,0,0,0]])\n",
    "X = to_time_series_dataset(sample)\n",
    "print(f'원자료의 크기와 차원 : {X.shape}')\n",
    "df = pd.DataFrame(X[:,:,0], index=['obs'+str(i+1) for i in range(len(X))],\n",
    "                   columns= ['time'+str(i+1) for i in range(X.shape[1])])\n",
    "df\n",
    "np.log(0.5 + df).T.plot(figsize=(15,3))"
   ]
  },
  {
   "cell_type": "markdown",
   "metadata": {},
   "source": [
    "## 1. K-means (유클리디언거리)\n",
    "### 표준화 전"
   ]
  },
  {
   "cell_type": "code",
   "execution_count": 3,
   "metadata": {
    "scrolled": false
   },
   "outputs": [
    {
     "data": {
      "text/plain": [
       "array([0, 0, 1, 0])"
      ]
     },
     "execution_count": 3,
     "metadata": {},
     "output_type": "execute_result"
    },
    {
     "data": {
      "text/plain": [
       "array([[68.95650803,  4.63081466],\n",
       "       [72.62919523,  7.83865068],\n",
       "       [ 0.        , 66.86138231],\n",
       "       [59.41380311,  8.11035004]])"
      ]
     },
     "execution_count": 3,
     "metadata": {},
     "output_type": "execute_result"
    }
   ],
   "source": [
    "from sklearn.cluster import KMeans\n",
    "data = df.fillna(0).copy()\n",
    "KMeans(n_clusters=2).fit_predict(data)\n",
    "KMeans(n_clusters=2).fit_transform(data)"
   ]
  },
  {
   "cell_type": "markdown",
   "metadata": {},
   "source": [
    "표준화 (시간 기준_by features)"
   ]
  },
  {
   "cell_type": "code",
   "execution_count": 4,
   "metadata": {
    "scrolled": false
   },
   "outputs": [
    {
     "data": {
      "text/plain": [
       "array([0, 0, 1, 0])"
      ]
     },
     "execution_count": 4,
     "metadata": {},
     "output_type": "execute_result"
    },
    {
     "data": {
      "text/plain": [
       "array([[2.07038661e+00, 5.48891938e+00],\n",
       "       [2.83629990e+00, 6.87073337e+00],\n",
       "       [5.28172195e+00, 4.21468485e-08],\n",
       "       [1.65724533e+00, 4.62948239e+00]])"
      ]
     },
     "execution_count": 4,
     "metadata": {},
     "output_type": "execute_result"
    }
   ],
   "source": [
    "from sklearn import preprocessing\n",
    "data_std = preprocessing.StandardScaler().fit_transform(data)\n",
    "KMeans(n_clusters=2).fit_predict(data_std)\n",
    "KMeans(n_clusters=2).fit_transform(data_std)"
   ]
  },
  {
   "cell_type": "markdown",
   "metadata": {},
   "source": [
    "표준화 (관측치 기준_by instance)"
   ]
  },
  {
   "cell_type": "code",
   "execution_count": 5,
   "metadata": {},
   "outputs": [
    {
     "data": {
      "text/plain": [
       "array([1, 0, 1, 1])"
      ]
     },
     "execution_count": 5,
     "metadata": {},
     "output_type": "execute_result"
    }
   ],
   "source": [
    "data_std = preprocessing.StandardScaler().fit_transform(data.T).T\n",
    "KMeans(n_clusters=2).fit_predict(data_std)"
   ]
  },
  {
   "cell_type": "markdown",
   "metadata": {},
   "source": [
    "## 2. K-means (DTW 거리)\n",
    "### 표준화 전\n",
    "- nan을 채울 필요 없음"
   ]
  },
  {
   "cell_type": "code",
   "execution_count": 6,
   "metadata": {},
   "outputs": [
    {
     "data": {
      "text/plain": [
       "[<matplotlib.lines.Line2D at 0x1da3f645100>]"
      ]
     },
     "execution_count": 6,
     "metadata": {},
     "output_type": "execute_result"
    },
    {
     "data": {
      "text/plain": [
       "([<matplotlib.lines.Line2D at 0x1da3f6454f0>],)"
      ]
     },
     "execution_count": 6,
     "metadata": {},
     "output_type": "execute_result"
    },
    {
     "name": "stdout",
     "output_type": "stream",
     "text": [
      "DTW알고리즘의 유사도(거리): 0.0\n"
     ]
    },
    {
     "data": {
      "image/png": "[encoded data removed]",
      "text/plain": [
       "<Figure size 432x288 with 1 Axes>"
      ]
     },
     "metadata": {
      "needs_background": "light"
     },
     "output_type": "display_data"
    }
   ],
   "source": [
    "from tslearn import metrics\n",
    "s1 = [0, 0, 0, 0, -1, -2, 1, 1.5, 2, 0, 0, 0]\n",
    "s2 = [0, 0, 0, 0, 0, 0, 0, 0, 0, 0, 0, 0, 0, -1, -2, 1, 1.5, 2, 0, 0, 0, 0, 0, 0]\n",
    "plt.plot(s1); plt.plot(s2),\n",
    "print(f'DTW알고리즘의 유사도(거리): {metrics.dtw(s1, s2)}')"
   ]
  },
  {
   "cell_type": "code",
   "execution_count": 7,
   "metadata": {},
   "outputs": [
    {
     "data": {
      "text/html": [
       "<div>\n",
       "<style scoped>\n",
       "    .dataframe tbody tr th:only-of-type {\n",
       "        vertical-align: middle;\n",
       "    }\n",
       "\n",
       "    .dataframe tbody tr th {\n",
       "        vertical-align: top;\n",
       "    }\n",
       "\n",
       "    .dataframe thead th {\n",
       "        text-align: right;\n",
       "    }\n",
       "</style>\n",
       "<table border=\"1\" class=\"dataframe\">\n",
       "  <thead>\n",
       "    <tr style=\"text-align: right;\">\n",
       "      <th></th>\n",
       "      <th>time1</th>\n",
       "      <th>time2</th>\n",
       "      <th>time3</th>\n",
       "      <th>time4</th>\n",
       "      <th>time5</th>\n",
       "      <th>time6</th>\n",
       "      <th>time7</th>\n",
       "      <th>time8</th>\n",
       "      <th>time9</th>\n",
       "    </tr>\n",
       "  </thead>\n",
       "  <tbody>\n",
       "    <tr>\n",
       "      <th>obs1</th>\n",
       "      <td>1.0</td>\n",
       "      <td>2.0</td>\n",
       "      <td>3.0</td>\n",
       "      <td>4.0</td>\n",
       "      <td>5.0</td>\n",
       "      <td>0.0</td>\n",
       "      <td>0.0</td>\n",
       "      <td>0.0</td>\n",
       "      <td>0.0</td>\n",
       "    </tr>\n",
       "    <tr>\n",
       "      <th>obs2</th>\n",
       "      <td>0.0</td>\n",
       "      <td>0.0</td>\n",
       "      <td>0.0</td>\n",
       "      <td>0.0</td>\n",
       "      <td>1.0</td>\n",
       "      <td>2.0</td>\n",
       "      <td>3.0</td>\n",
       "      <td>4.0</td>\n",
       "      <td>5.0</td>\n",
       "    </tr>\n",
       "    <tr>\n",
       "      <th>obs3</th>\n",
       "      <td>0.0</td>\n",
       "      <td>10.0</td>\n",
       "      <td>20.0</td>\n",
       "      <td>30.0</td>\n",
       "      <td>40.0</td>\n",
       "      <td>50.0</td>\n",
       "      <td>0.0</td>\n",
       "      <td>0.0</td>\n",
       "      <td>0.0</td>\n",
       "    </tr>\n",
       "    <tr>\n",
       "      <th>obs4</th>\n",
       "      <td>0.0</td>\n",
       "      <td>0.0</td>\n",
       "      <td>6.0</td>\n",
       "      <td>7.0</td>\n",
       "      <td>8.0</td>\n",
       "      <td>9.0</td>\n",
       "      <td>0.0</td>\n",
       "      <td>0.0</td>\n",
       "      <td>0.0</td>\n",
       "    </tr>\n",
       "  </tbody>\n",
       "</table>\n",
       "</div>"
      ],
      "text/plain": [
       "      time1  time2  time3  time4  time5  time6  time7  time8  time9\n",
       "obs1    1.0    2.0    3.0    4.0    5.0    0.0    0.0    0.0    0.0\n",
       "obs2    0.0    0.0    0.0    0.0    1.0    2.0    3.0    4.0    5.0\n",
       "obs3    0.0   10.0   20.0   30.0   40.0   50.0    0.0    0.0    0.0\n",
       "obs4    0.0    0.0    6.0    7.0    8.0    9.0    0.0    0.0    0.0"
      ]
     },
     "execution_count": 7,
     "metadata": {},
     "output_type": "execute_result"
    }
   ],
   "source": [
    "data"
   ]
  },
  {
   "cell_type": "code",
   "execution_count": 8,
   "metadata": {
    "scrolled": true
   },
   "outputs": [
    {
     "data": {
      "text/html": [
       "<div>\n",
       "<style scoped>\n",
       "    .dataframe tbody tr th:only-of-type {\n",
       "        vertical-align: middle;\n",
       "    }\n",
       "\n",
       "    .dataframe tbody tr th {\n",
       "        vertical-align: top;\n",
       "    }\n",
       "\n",
       "    .dataframe thead th {\n",
       "        text-align: right;\n",
       "    }\n",
       "</style>\n",
       "<table border=\"1\" class=\"dataframe\">\n",
       "  <thead>\n",
       "    <tr style=\"text-align: right;\">\n",
       "      <th></th>\n",
       "      <th>time1</th>\n",
       "      <th>time2</th>\n",
       "      <th>time3</th>\n",
       "      <th>time4</th>\n",
       "      <th>time5</th>\n",
       "      <th>time6</th>\n",
       "      <th>time7</th>\n",
       "      <th>time8</th>\n",
       "      <th>time9</th>\n",
       "    </tr>\n",
       "  </thead>\n",
       "  <tbody>\n",
       "    <tr>\n",
       "      <th>obs1</th>\n",
       "      <td>1.0</td>\n",
       "      <td>2.0</td>\n",
       "      <td>3.0</td>\n",
       "      <td>4.0</td>\n",
       "      <td>5.0</td>\n",
       "      <td>NaN</td>\n",
       "      <td>NaN</td>\n",
       "      <td>NaN</td>\n",
       "      <td>NaN</td>\n",
       "    </tr>\n",
       "    <tr>\n",
       "      <th>obs2</th>\n",
       "      <td>0.0</td>\n",
       "      <td>0.0</td>\n",
       "      <td>0.0</td>\n",
       "      <td>0.0</td>\n",
       "      <td>1.0</td>\n",
       "      <td>2.0</td>\n",
       "      <td>3.0</td>\n",
       "      <td>4.0</td>\n",
       "      <td>5.0</td>\n",
       "    </tr>\n",
       "    <tr>\n",
       "      <th>obs3</th>\n",
       "      <td>0.0</td>\n",
       "      <td>10.0</td>\n",
       "      <td>20.0</td>\n",
       "      <td>30.0</td>\n",
       "      <td>40.0</td>\n",
       "      <td>50.0</td>\n",
       "      <td>0.0</td>\n",
       "      <td>NaN</td>\n",
       "      <td>NaN</td>\n",
       "    </tr>\n",
       "    <tr>\n",
       "      <th>obs4</th>\n",
       "      <td>0.0</td>\n",
       "      <td>0.0</td>\n",
       "      <td>6.0</td>\n",
       "      <td>7.0</td>\n",
       "      <td>8.0</td>\n",
       "      <td>9.0</td>\n",
       "      <td>0.0</td>\n",
       "      <td>0.0</td>\n",
       "      <td>0.0</td>\n",
       "    </tr>\n",
       "  </tbody>\n",
       "</table>\n",
       "</div>"
      ],
      "text/plain": [
       "      time1  time2  time3  time4  time5  time6  time7  time8  time9\n",
       "obs1    1.0    2.0    3.0    4.0    5.0    NaN    NaN    NaN    NaN\n",
       "obs2    0.0    0.0    0.0    0.0    1.0    2.0    3.0    4.0    5.0\n",
       "obs3    0.0   10.0   20.0   30.0   40.0   50.0    0.0    NaN    NaN\n",
       "obs4    0.0    0.0    6.0    7.0    8.0    9.0    0.0    0.0    0.0"
      ]
     },
     "execution_count": 8,
     "metadata": {},
     "output_type": "execute_result"
    }
   ],
   "source": [
    "df"
   ]
  },
  {
   "cell_type": "code",
   "execution_count": 9,
   "metadata": {
    "scrolled": true
   },
   "outputs": [
    {
     "data": {
      "text/html": [
       "<div>\n",
       "<style scoped>\n",
       "    .dataframe tbody tr th:only-of-type {\n",
       "        vertical-align: middle;\n",
       "    }\n",
       "\n",
       "    .dataframe tbody tr th {\n",
       "        vertical-align: top;\n",
       "    }\n",
       "\n",
       "    .dataframe thead th {\n",
       "        text-align: right;\n",
       "    }\n",
       "</style>\n",
       "<table border=\"1\" class=\"dataframe\">\n",
       "  <thead>\n",
       "    <tr style=\"text-align: right;\">\n",
       "      <th></th>\n",
       "      <th>time_first</th>\n",
       "      <th>time1</th>\n",
       "      <th>time2</th>\n",
       "      <th>time3</th>\n",
       "      <th>time4</th>\n",
       "      <th>time5</th>\n",
       "      <th>time6</th>\n",
       "      <th>time7</th>\n",
       "      <th>time8</th>\n",
       "      <th>time9</th>\n",
       "      <th>time_last</th>\n",
       "    </tr>\n",
       "  </thead>\n",
       "  <tbody>\n",
       "    <tr>\n",
       "      <th>obs1</th>\n",
       "      <td>0</td>\n",
       "      <td>1.0</td>\n",
       "      <td>2.0</td>\n",
       "      <td>3.0</td>\n",
       "      <td>4.0</td>\n",
       "      <td>5.0</td>\n",
       "      <td>NaN</td>\n",
       "      <td>NaN</td>\n",
       "      <td>NaN</td>\n",
       "      <td>NaN</td>\n",
       "      <td>0</td>\n",
       "    </tr>\n",
       "    <tr>\n",
       "      <th>obs2</th>\n",
       "      <td>0</td>\n",
       "      <td>0.0</td>\n",
       "      <td>0.0</td>\n",
       "      <td>0.0</td>\n",
       "      <td>0.0</td>\n",
       "      <td>1.0</td>\n",
       "      <td>2.0</td>\n",
       "      <td>3.0</td>\n",
       "      <td>4.0</td>\n",
       "      <td>5.0</td>\n",
       "      <td>0</td>\n",
       "    </tr>\n",
       "    <tr>\n",
       "      <th>obs3</th>\n",
       "      <td>0</td>\n",
       "      <td>0.0</td>\n",
       "      <td>10.0</td>\n",
       "      <td>20.0</td>\n",
       "      <td>30.0</td>\n",
       "      <td>40.0</td>\n",
       "      <td>50.0</td>\n",
       "      <td>0.0</td>\n",
       "      <td>NaN</td>\n",
       "      <td>NaN</td>\n",
       "      <td>0</td>\n",
       "    </tr>\n",
       "    <tr>\n",
       "      <th>obs4</th>\n",
       "      <td>0</td>\n",
       "      <td>0.0</td>\n",
       "      <td>0.0</td>\n",
       "      <td>6.0</td>\n",
       "      <td>7.0</td>\n",
       "      <td>8.0</td>\n",
       "      <td>9.0</td>\n",
       "      <td>0.0</td>\n",
       "      <td>0.0</td>\n",
       "      <td>0.0</td>\n",
       "      <td>0</td>\n",
       "    </tr>\n",
       "  </tbody>\n",
       "</table>\n",
       "</div>"
      ],
      "text/plain": [
       "      time_first  time1  time2  time3  time4  time5  time6  time7  time8  \\\n",
       "obs1           0    1.0    2.0    3.0    4.0    5.0    NaN    NaN    NaN   \n",
       "obs2           0    0.0    0.0    0.0    0.0    1.0    2.0    3.0    4.0   \n",
       "obs3           0    0.0   10.0   20.0   30.0   40.0   50.0    0.0    NaN   \n",
       "obs4           0    0.0    0.0    6.0    7.0    8.0    9.0    0.0    0.0   \n",
       "\n",
       "      time9  time_last  \n",
       "obs1    NaN          0  \n",
       "obs2    5.0          0  \n",
       "obs3    NaN          0  \n",
       "obs4    0.0          0  "
      ]
     },
     "execution_count": 9,
     "metadata": {},
     "output_type": "execute_result"
    }
   ],
   "source": [
    "from tslearn.clustering import TimeSeriesKMeans\n",
    "km = TimeSeriesKMeans(n_clusters=2, metric=\"dtw\")\n",
    "df['time_last'] = 0\n",
    "df['time_first'] = 0\n",
    "first_column = df.pop('time_first')\n",
    "df.insert(0, 'time_first', first_column)\n",
    "df"
   ]
  },
  {
   "cell_type": "markdown",
   "metadata": {},
   "source": [
    "### 표준화 (관측치 기준_by instance)"
   ]
  },
  {
   "cell_type": "code",
   "execution_count": 10,
   "metadata": {},
   "outputs": [
    {
     "data": {
      "text/plain": [
       "TimeSeriesKMeans(metric='dtw', n_clusters=2)"
      ]
     },
     "execution_count": 10,
     "metadata": {},
     "output_type": "execute_result"
    },
    {
     "data": {
      "text/plain": [
       "<AxesSubplot:>"
      ]
     },
     "execution_count": 10,
     "metadata": {},
     "output_type": "execute_result"
    },
    {
     "data": {
      "image/png": "[encoded data removed]",
      "text/plain": [
       "<Figure size 1080x288 with 1 Axes>"
      ]
     },
     "metadata": {
      "needs_background": "light"
     },
     "output_type": "display_data"
    }
   ],
   "source": [
    "from sklearn import preprocessing\n",
    "minmax = preprocessing.MinMaxScaler()\n",
    "input = minmax.fit_transform(df.fillna(0).T).T\n",
    "km.fit(input)\n",
    "df['cluster'] = km.predict(input)\n",
    "np.log(data.T).plot(figsize=(15,4))"
   ]
  },
  {
   "cell_type": "code",
   "execution_count": null,
   "metadata": {},
   "outputs": [],
   "source": []
  },
  {
   "cell_type": "code",
   "execution_count": 11,
   "metadata": {},
   "outputs": [
    {
     "data": {
      "text/html": [
       "<div>\n",
       "<style scoped>\n",
       "    .dataframe tbody tr th:only-of-type {\n",
       "        vertical-align: middle;\n",
       "    }\n",
       "\n",
       "    .dataframe tbody tr th {\n",
       "        vertical-align: top;\n",
       "    }\n",
       "\n",
       "    .dataframe thead th {\n",
       "        text-align: right;\n",
       "    }\n",
       "</style>\n",
       "<table border=\"1\" class=\"dataframe\">\n",
       "  <thead>\n",
       "    <tr style=\"text-align: right;\">\n",
       "      <th></th>\n",
       "      <th>time1</th>\n",
       "      <th>time2</th>\n",
       "      <th>time3</th>\n",
       "      <th>time4</th>\n",
       "      <th>time5</th>\n",
       "      <th>time6</th>\n",
       "      <th>time7</th>\n",
       "      <th>time8</th>\n",
       "      <th>time9</th>\n",
       "      <th>time10</th>\n",
       "      <th>time11</th>\n",
       "    </tr>\n",
       "  </thead>\n",
       "  <tbody>\n",
       "    <tr>\n",
       "      <th>obs1</th>\n",
       "      <td>0.0</td>\n",
       "      <td>0.2</td>\n",
       "      <td>0.4</td>\n",
       "      <td>0.60</td>\n",
       "      <td>0.80</td>\n",
       "      <td>1.00</td>\n",
       "      <td>0.0</td>\n",
       "      <td>0.0</td>\n",
       "      <td>0.0</td>\n",
       "      <td>0.0</td>\n",
       "      <td>0.0</td>\n",
       "    </tr>\n",
       "    <tr>\n",
       "      <th>obs2</th>\n",
       "      <td>0.0</td>\n",
       "      <td>0.0</td>\n",
       "      <td>0.0</td>\n",
       "      <td>0.00</td>\n",
       "      <td>0.00</td>\n",
       "      <td>0.20</td>\n",
       "      <td>0.4</td>\n",
       "      <td>0.6</td>\n",
       "      <td>0.8</td>\n",
       "      <td>1.0</td>\n",
       "      <td>0.0</td>\n",
       "    </tr>\n",
       "    <tr>\n",
       "      <th>obs3</th>\n",
       "      <td>0.0</td>\n",
       "      <td>0.0</td>\n",
       "      <td>0.2</td>\n",
       "      <td>0.40</td>\n",
       "      <td>0.60</td>\n",
       "      <td>0.80</td>\n",
       "      <td>1.0</td>\n",
       "      <td>0.0</td>\n",
       "      <td>0.0</td>\n",
       "      <td>0.0</td>\n",
       "      <td>0.0</td>\n",
       "    </tr>\n",
       "    <tr>\n",
       "      <th>obs4</th>\n",
       "      <td>0.0</td>\n",
       "      <td>0.0</td>\n",
       "      <td>0.0</td>\n",
       "      <td>0.67</td>\n",
       "      <td>0.78</td>\n",
       "      <td>0.89</td>\n",
       "      <td>1.0</td>\n",
       "      <td>0.0</td>\n",
       "      <td>0.0</td>\n",
       "      <td>0.0</td>\n",
       "      <td>0.0</td>\n",
       "    </tr>\n",
       "  </tbody>\n",
       "</table>\n",
       "</div>"
      ],
      "text/plain": [
       "      time1  time2  time3  time4  time5  time6  time7  time8  time9  time10  \\\n",
       "obs1    0.0    0.2    0.4   0.60   0.80   1.00    0.0    0.0    0.0     0.0   \n",
       "obs2    0.0    0.0    0.0   0.00   0.00   0.20    0.4    0.6    0.8     1.0   \n",
       "obs3    0.0    0.0    0.2   0.40   0.60   0.80    1.0    0.0    0.0     0.0   \n",
       "obs4    0.0    0.0    0.0   0.67   0.78   0.89    1.0    0.0    0.0     0.0   \n",
       "\n",
       "      time11  \n",
       "obs1     0.0  \n",
       "obs2     0.0  \n",
       "obs3     0.0  \n",
       "obs4     0.0  "
      ]
     },
     "execution_count": 11,
     "metadata": {},
     "output_type": "execute_result"
    }
   ],
   "source": [
    "pd.DataFrame(input, index=['obs'+str(i+1) for i in range(len(input))],\n",
    "                   columns= ['time'+str(i+1) for i in range(input.shape[1])]).round(2)"
   ]
  },
  {
   "cell_type": "code",
   "execution_count": 12,
   "metadata": {},
   "outputs": [
    {
     "data": {
      "text/plain": [
       "TimeSeriesKMeans(metric='dtw', n_clusters=2)"
      ]
     },
     "execution_count": 12,
     "metadata": {},
     "output_type": "execute_result"
    },
    {
     "name": "stdout",
     "output_type": "stream",
     "text": [
      "Kmeans-dtw의 silhouette_score: -0.40806935954325385\n"
     ]
    },
    {
     "data": {
      "image/png": "[encoded data removed]",
      "text/plain": [
       "<Figure size 576x396 with 1 Axes>"
      ]
     },
     "metadata": {},
     "output_type": "display_data"
    },
    {
     "data": {
      "text/plain": [
       "SilhouetteVisualizer(ax=<AxesSubplot:title={'center':'Silhouette Plot of TimeSeriesKMeans Clustering for 4 Samples in 2 Centers'}, xlabel='silhouette coefficient values', ylabel='cluster label'>,\n",
       "                     colors='yellowbrick',\n",
       "                     estimator=TimeSeriesKMeans(metric='dtw', n_clusters=2))"
      ]
     },
     "execution_count": 12,
     "metadata": {},
     "output_type": "execute_result"
    }
   ],
   "source": [
    "from yellowbrick.cluster import silhouette_visualizer\n",
    "from tslearn import clustering\n",
    "km.fit(input)\n",
    "silhouette_score= clustering.silhouette_score(data, km.predict(input), metric=\"dtw\")\n",
    "print(f'Kmeans-dtw의 silhouette_score: {silhouette_score}')\n",
    "silhouette_visualizer(km, np.nan_to_num(input), colors='yellowbrick') # fillna necessary"
   ]
  },
  {
   "cell_type": "markdown",
   "metadata": {},
   "source": [
    "# End"
   ]
  },
  {
   "cell_type": "code",
   "execution_count": 13,
   "metadata": {},
   "outputs": [
    {
     "data": {
      "text/html": [
       "<div>\n",
       "<style scoped>\n",
       "    .dataframe tbody tr th:only-of-type {\n",
       "        vertical-align: middle;\n",
       "    }\n",
       "\n",
       "    .dataframe tbody tr th {\n",
       "        vertical-align: top;\n",
       "    }\n",
       "\n",
       "    .dataframe thead th {\n",
       "        text-align: right;\n",
       "    }\n",
       "</style>\n",
       "<table border=\"1\" class=\"dataframe\">\n",
       "  <thead>\n",
       "    <tr style=\"text-align: right;\">\n",
       "      <th></th>\n",
       "      <th>0</th>\n",
       "      <th>1</th>\n",
       "      <th>2</th>\n",
       "      <th>3</th>\n",
       "      <th>4</th>\n",
       "      <th>5</th>\n",
       "      <th>6</th>\n",
       "      <th>7</th>\n",
       "      <th>8</th>\n",
       "      <th>9</th>\n",
       "      <th>10</th>\n",
       "      <th>11</th>\n",
       "      <th>12</th>\n",
       "      <th>13</th>\n",
       "      <th>14</th>\n",
       "      <th>15</th>\n",
       "      <th>labels</th>\n",
       "    </tr>\n",
       "  </thead>\n",
       "  <tbody>\n",
       "    <tr>\n",
       "      <th>0</th>\n",
       "      <td>1.764052</td>\n",
       "      <td>2.164210</td>\n",
       "      <td>3.142948</td>\n",
       "      <td>5.383841</td>\n",
       "      <td>7.251399</td>\n",
       "      <td>6.274121</td>\n",
       "      <td>7.224209</td>\n",
       "      <td>7.072852</td>\n",
       "      <td>6.969633</td>\n",
       "      <td>7.380232</td>\n",
       "      <td>7.524275</td>\n",
       "      <td>8.978549</td>\n",
       "      <td>9.739587</td>\n",
       "      <td>9.861262</td>\n",
       "      <td>10.305125</td>\n",
       "      <td>10.638799</td>\n",
       "      <td>0</td>\n",
       "    </tr>\n",
       "    <tr>\n",
       "      <th>1</th>\n",
       "      <td>1.494079</td>\n",
       "      <td>1.288921</td>\n",
       "      <td>1.601989</td>\n",
       "      <td>0.747893</td>\n",
       "      <td>-1.805097</td>\n",
       "      <td>-1.151478</td>\n",
       "      <td>-0.287042</td>\n",
       "      <td>-1.029207</td>\n",
       "      <td>1.240547</td>\n",
       "      <td>-0.213818</td>\n",
       "      <td>-0.168060</td>\n",
       "      <td>-0.355244</td>\n",
       "      <td>1.177536</td>\n",
       "      <td>2.646894</td>\n",
       "      <td>2.801842</td>\n",
       "      <td>3.180004</td>\n",
       "      <td>0</td>\n",
       "    </tr>\n",
       "    <tr>\n",
       "      <th>2</th>\n",
       "      <td>-0.887786</td>\n",
       "      <td>-2.868582</td>\n",
       "      <td>-3.216494</td>\n",
       "      <td>-3.060145</td>\n",
       "      <td>-1.829855</td>\n",
       "      <td>-0.627475</td>\n",
       "      <td>-1.014802</td>\n",
       "      <td>-1.317104</td>\n",
       "      <td>-2.365657</td>\n",
       "      <td>-3.785675</td>\n",
       "      <td>-5.491946</td>\n",
       "      <td>-3.541170</td>\n",
       "      <td>-4.050822</td>\n",
       "      <td>-4.488897</td>\n",
       "      <td>-5.741692</td>\n",
       "      <td>-4.964202</td>\n",
       "      <td>1</td>\n",
       "    </tr>\n",
       "    <tr>\n",
       "      <th>3</th>\n",
       "      <td>-1.613898</td>\n",
       "      <td>-1.826638</td>\n",
       "      <td>-2.722105</td>\n",
       "      <td>-2.335202</td>\n",
       "      <td>-2.846007</td>\n",
       "      <td>-4.026640</td>\n",
       "      <td>-4.054822</td>\n",
       "      <td>-3.626490</td>\n",
       "      <td>-3.559973</td>\n",
       "      <td>-3.257501</td>\n",
       "      <td>-3.891823</td>\n",
       "      <td>-4.254564</td>\n",
       "      <td>-4.927024</td>\n",
       "      <td>-5.286578</td>\n",
       "      <td>-6.099724</td>\n",
       "      <td>-7.826007</td>\n",
       "      <td>1</td>\n",
       "    </tr>\n",
       "    <tr>\n",
       "      <th>4</th>\n",
       "      <td>0.177426</td>\n",
       "      <td>-0.224355</td>\n",
       "      <td>-1.854553</td>\n",
       "      <td>-1.391771</td>\n",
       "      <td>-2.299069</td>\n",
       "      <td>-2.247124</td>\n",
       "      <td>-1.518033</td>\n",
       "      <td>-1.389050</td>\n",
       "      <td>-0.249650</td>\n",
       "      <td>-1.484476</td>\n",
       "      <td>-1.082134</td>\n",
       "      <td>-1.766944</td>\n",
       "      <td>-2.637741</td>\n",
       "      <td>-3.216591</td>\n",
       "      <td>-3.528143</td>\n",
       "      <td>-3.471978</td>\n",
       "      <td>1</td>\n",
       "    </tr>\n",
       "    <tr>\n",
       "      <th>5</th>\n",
       "      <td>-1.165150</td>\n",
       "      <td>-0.264323</td>\n",
       "      <td>0.201339</td>\n",
       "      <td>-1.334905</td>\n",
       "      <td>0.153348</td>\n",
       "      <td>2.049237</td>\n",
       "      <td>3.228016</td>\n",
       "      <td>3.048092</td>\n",
       "      <td>1.977339</td>\n",
       "      <td>3.031791</td>\n",
       "      <td>2.628614</td>\n",
       "      <td>3.851059</td>\n",
       "      <td>4.059334</td>\n",
       "      <td>5.035973</td>\n",
       "      <td>5.392339</td>\n",
       "      <td>6.098912</td>\n",
       "      <td>1</td>\n",
       "    </tr>\n",
       "    <tr>\n",
       "      <th>6</th>\n",
       "      <td>0.010500</td>\n",
       "      <td>1.796371</td>\n",
       "      <td>1.923283</td>\n",
       "      <td>2.325272</td>\n",
       "      <td>4.208423</td>\n",
       "      <td>2.860664</td>\n",
       "      <td>1.590179</td>\n",
       "      <td>2.559575</td>\n",
       "      <td>1.386452</td>\n",
       "      <td>3.330073</td>\n",
       "      <td>2.916454</td>\n",
       "      <td>2.168999</td>\n",
       "      <td>4.091941</td>\n",
       "      <td>5.572456</td>\n",
       "      <td>7.440015</td>\n",
       "      <td>8.346060</td>\n",
       "      <td>1</td>\n",
       "    </tr>\n",
       "    <tr>\n",
       "      <th>7</th>\n",
       "      <td>-0.861226</td>\n",
       "      <td>1.048839</td>\n",
       "      <td>0.780836</td>\n",
       "      <td>1.583292</td>\n",
       "      <td>2.530544</td>\n",
       "      <td>2.375534</td>\n",
       "      <td>2.989614</td>\n",
       "      <td>3.911820</td>\n",
       "      <td>4.288246</td>\n",
       "      <td>3.188845</td>\n",
       "      <td>3.487083</td>\n",
       "      <td>4.813469</td>\n",
       "      <td>4.118901</td>\n",
       "      <td>3.969267</td>\n",
       "      <td>3.534113</td>\n",
       "      <td>5.383377</td>\n",
       "      <td>1</td>\n",
       "    </tr>\n",
       "    <tr>\n",
       "      <th>8</th>\n",
       "      <td>0.672295</td>\n",
       "      <td>1.079757</td>\n",
       "      <td>0.309841</td>\n",
       "      <td>0.849090</td>\n",
       "      <td>0.174757</td>\n",
       "      <td>0.206588</td>\n",
       "      <td>-0.429258</td>\n",
       "      <td>0.247175</td>\n",
       "      <td>0.823766</td>\n",
       "      <td>0.615467</td>\n",
       "      <td>1.011474</td>\n",
       "      <td>-0.081588</td>\n",
       "      <td>-1.572846</td>\n",
       "      <td>-1.133454</td>\n",
       "      <td>-0.966780</td>\n",
       "      <td>-0.331749</td>\n",
       "      <td>1</td>\n",
       "    </tr>\n",
       "    <tr>\n",
       "      <th>9</th>\n",
       "      <td>2.383145</td>\n",
       "      <td>3.327624</td>\n",
       "      <td>2.414802</td>\n",
       "      <td>3.531818</td>\n",
       "      <td>2.215911</td>\n",
       "      <td>1.754326</td>\n",
       "      <td>1.686085</td>\n",
       "      <td>3.399427</td>\n",
       "      <td>2.654673</td>\n",
       "      <td>1.828234</td>\n",
       "      <td>1.729782</td>\n",
       "      <td>1.066303</td>\n",
       "      <td>2.192939</td>\n",
       "      <td>1.113008</td>\n",
       "      <td>-0.034461</td>\n",
       "      <td>-0.472281</td>\n",
       "      <td>1</td>\n",
       "    </tr>\n",
       "    <tr>\n",
       "      <th>10</th>\n",
       "      <td>-0.498032</td>\n",
       "      <td>1.431500</td>\n",
       "      <td>2.380920</td>\n",
       "      <td>2.468472</td>\n",
       "      <td>1.243036</td>\n",
       "      <td>2.087399</td>\n",
       "      <td>1.087184</td>\n",
       "      <td>-0.457587</td>\n",
       "      <td>0.730442</td>\n",
       "      <td>1.047385</td>\n",
       "      <td>1.968244</td>\n",
       "      <td>2.286972</td>\n",
       "      <td>3.143802</td>\n",
       "      <td>2.492777</td>\n",
       "      <td>1.458534</td>\n",
       "      <td>2.140128</td>\n",
       "      <td>0</td>\n",
       "    </tr>\n",
       "    <tr>\n",
       "      <th>11</th>\n",
       "      <td>-0.803410</td>\n",
       "      <td>-1.492959</td>\n",
       "      <td>-1.948492</td>\n",
       "      <td>-1.931013</td>\n",
       "      <td>-2.285007</td>\n",
       "      <td>-3.659958</td>\n",
       "      <td>-4.303576</td>\n",
       "      <td>-6.526980</td>\n",
       "      <td>-5.901748</td>\n",
       "      <td>-7.503806</td>\n",
       "      <td>-8.608189</td>\n",
       "      <td>-8.556024</td>\n",
       "      <td>-9.295587</td>\n",
       "      <td>-7.752572</td>\n",
       "      <td>-9.045429</td>\n",
       "      <td>-8.778378</td>\n",
       "      <td>0</td>\n",
       "    </tr>\n",
       "    <tr>\n",
       "      <th>12</th>\n",
       "      <td>-0.039283</td>\n",
       "      <td>-1.207376</td>\n",
       "      <td>-0.684100</td>\n",
       "      <td>-0.855646</td>\n",
       "      <td>-0.083855</td>\n",
       "      <td>0.739649</td>\n",
       "      <td>2.902885</td>\n",
       "      <td>4.239413</td>\n",
       "      <td>3.870231</td>\n",
       "      <td>3.630852</td>\n",
       "      <td>4.730511</td>\n",
       "      <td>5.385775</td>\n",
       "      <td>6.025906</td>\n",
       "      <td>4.408950</td>\n",
       "      <td>4.384624</td>\n",
       "      <td>3.646593</td>\n",
       "      <td>0</td>\n",
       "    </tr>\n",
       "    <tr>\n",
       "      <th>13</th>\n",
       "      <td>0.279925</td>\n",
       "      <td>0.181774</td>\n",
       "      <td>1.091953</td>\n",
       "      <td>1.409171</td>\n",
       "      <td>2.195499</td>\n",
       "      <td>1.729080</td>\n",
       "      <td>0.784634</td>\n",
       "      <td>0.374584</td>\n",
       "      <td>0.357564</td>\n",
       "      <td>0.736716</td>\n",
       "      <td>2.996025</td>\n",
       "      <td>2.953767</td>\n",
       "      <td>1.997822</td>\n",
       "      <td>1.651841</td>\n",
       "      <td>1.188245</td>\n",
       "      <td>1.669726</td>\n",
       "      <td>1</td>\n",
       "    </tr>\n",
       "    <tr>\n",
       "      <th>14</th>\n",
       "      <td>-1.540797</td>\n",
       "      <td>-1.477535</td>\n",
       "      <td>-1.321028</td>\n",
       "      <td>-1.088847</td>\n",
       "      <td>-1.686164</td>\n",
       "      <td>-1.924085</td>\n",
       "      <td>-3.348146</td>\n",
       "      <td>-3.841466</td>\n",
       "      <td>-4.384328</td>\n",
       "      <td>-3.968277</td>\n",
       "      <td>-5.124460</td>\n",
       "      <td>-4.343262</td>\n",
       "      <td>-2.848777</td>\n",
       "      <td>-4.918762</td>\n",
       "      <td>-4.492504</td>\n",
       "      <td>-3.815596</td>\n",
       "      <td>1</td>\n",
       "    </tr>\n",
       "    <tr>\n",
       "      <th>15</th>\n",
       "      <td>-0.637437</td>\n",
       "      <td>-1.034709</td>\n",
       "      <td>-1.167589</td>\n",
       "      <td>-1.465380</td>\n",
       "      <td>-1.774393</td>\n",
       "      <td>-3.450397</td>\n",
       "      <td>-2.298066</td>\n",
       "      <td>-1.218447</td>\n",
       "      <td>-2.031811</td>\n",
       "      <td>-3.498236</td>\n",
       "      <td>-2.977171</td>\n",
       "      <td>-3.552959</td>\n",
       "      <td>-3.411005</td>\n",
       "      <td>-3.730334</td>\n",
       "      <td>-3.038795</td>\n",
       "      <td>-2.344046</td>\n",
       "      <td>1</td>\n",
       "    </tr>\n",
       "    <tr>\n",
       "      <th>16</th>\n",
       "      <td>-0.725597</td>\n",
       "      <td>-2.108961</td>\n",
       "      <td>-3.691900</td>\n",
       "      <td>-3.081520</td>\n",
       "      <td>-4.270380</td>\n",
       "      <td>-4.777196</td>\n",
       "      <td>-5.373510</td>\n",
       "      <td>-5.426077</td>\n",
       "      <td>-7.362357</td>\n",
       "      <td>-7.173579</td>\n",
       "      <td>-6.649687</td>\n",
       "      <td>-6.561265</td>\n",
       "      <td>-6.872152</td>\n",
       "      <td>-6.774751</td>\n",
       "      <td>-6.375705</td>\n",
       "      <td>-9.148298</td>\n",
       "      <td>1</td>\n",
       "    </tr>\n",
       "    <tr>\n",
       "      <th>17</th>\n",
       "      <td>1.955912</td>\n",
       "      <td>2.346006</td>\n",
       "      <td>1.693597</td>\n",
       "      <td>1.302644</td>\n",
       "      <td>1.796385</td>\n",
       "      <td>1.680282</td>\n",
       "      <td>-0.350403</td>\n",
       "      <td>1.714090</td>\n",
       "      <td>1.603549</td>\n",
       "      <td>2.623722</td>\n",
       "      <td>1.931672</td>\n",
       "      <td>3.468049</td>\n",
       "      <td>3.754393</td>\n",
       "      <td>4.363237</td>\n",
       "      <td>3.317983</td>\n",
       "      <td>4.529129</td>\n",
       "      <td>0</td>\n",
       "    </tr>\n",
       "    <tr>\n",
       "      <th>18</th>\n",
       "      <td>0.689818</td>\n",
       "      <td>1.991664</td>\n",
       "      <td>1.363577</td>\n",
       "      <td>0.882550</td>\n",
       "      <td>3.186466</td>\n",
       "      <td>2.126451</td>\n",
       "      <td>1.990501</td>\n",
       "      <td>3.127392</td>\n",
       "      <td>3.225117</td>\n",
       "      <td>3.808071</td>\n",
       "      <td>3.408622</td>\n",
       "      <td>3.778678</td>\n",
       "      <td>2.472151</td>\n",
       "      <td>4.130282</td>\n",
       "      <td>4.012118</td>\n",
       "      <td>3.331939</td>\n",
       "      <td>0</td>\n",
       "    </tr>\n",
       "    <tr>\n",
       "      <th>19</th>\n",
       "      <td>0.666383</td>\n",
       "      <td>0.205663</td>\n",
       "      <td>-1.128595</td>\n",
       "      <td>-2.475313</td>\n",
       "      <td>-1.781540</td>\n",
       "      <td>-1.941113</td>\n",
       "      <td>-2.074815</td>\n",
       "      <td>-0.997071</td>\n",
       "      <td>-2.123897</td>\n",
       "      <td>-2.854574</td>\n",
       "      <td>-3.239454</td>\n",
       "      <td>-3.145103</td>\n",
       "      <td>-3.187274</td>\n",
       "      <td>-3.474161</td>\n",
       "      <td>-3.535788</td>\n",
       "      <td>-3.643093</td>\n",
       "      <td>1</td>\n",
       "    </tr>\n",
       "  </tbody>\n",
       "</table>\n",
       "</div>"
      ],
      "text/plain": [
       "           0         1         2         3         4         5         6  \\\n",
       "0   1.764052  2.164210  3.142948  5.383841  7.251399  6.274121  7.224209   \n",
       "1   1.494079  1.288921  1.601989  0.747893 -1.805097 -1.151478 -0.287042   \n",
       "2  -0.887786 -2.868582 -3.216494 -3.060145 -1.829855 -0.627475 -1.014802   \n",
       "3  -1.613898 -1.826638 -2.722105 -2.335202 -2.846007 -4.026640 -4.054822   \n",
       "4   0.177426 -0.224355 -1.854553 -1.391771 -2.299069 -2.247124 -1.518033   \n",
       "5  -1.165150 -0.264323  0.201339 -1.334905  0.153348  2.049237  3.228016   \n",
       "6   0.010500  1.796371  1.923283  2.325272  4.208423  2.860664  1.590179   \n",
       "7  -0.861226  1.048839  0.780836  1.583292  2.530544  2.375534  2.989614   \n",
       "8   0.672295  1.079757  0.309841  0.849090  0.174757  0.206588 -0.429258   \n",
       "9   2.383145  3.327624  2.414802  3.531818  2.215911  1.754326  1.686085   \n",
       "10 -0.498032  1.431500  2.380920  2.468472  1.243036  2.087399  1.087184   \n",
       "11 -0.803410 -1.492959 -1.948492 -1.931013 -2.285007 -3.659958 -4.303576   \n",
       "12 -0.039283 -1.207376 -0.684100 -0.855646 -0.083855  0.739649  2.902885   \n",
       "13  0.279925  0.181774  1.091953  1.409171  2.195499  1.729080  0.784634   \n",
       "14 -1.540797 -1.477535 -1.321028 -1.088847 -1.686164 -1.924085 -3.348146   \n",
       "15 -0.637437 -1.034709 -1.167589 -1.465380 -1.774393 -3.450397 -2.298066   \n",
       "16 -0.725597 -2.108961 -3.691900 -3.081520 -4.270380 -4.777196 -5.373510   \n",
       "17  1.955912  2.346006  1.693597  1.302644  1.796385  1.680282 -0.350403   \n",
       "18  0.689818  1.991664  1.363577  0.882550  3.186466  2.126451  1.990501   \n",
       "19  0.666383  0.205663 -1.128595 -2.475313 -1.781540 -1.941113 -2.074815   \n",
       "\n",
       "           7         8         9        10        11        12        13  \\\n",
       "0   7.072852  6.969633  7.380232  7.524275  8.978549  9.739587  9.861262   \n",
       "1  -1.029207  1.240547 -0.213818 -0.168060 -0.355244  1.177536  2.646894   \n",
       "2  -1.317104 -2.365657 -3.785675 -5.491946 -3.541170 -4.050822 -4.488897   \n",
       "3  -3.626490 -3.559973 -3.257501 -3.891823 -4.254564 -4.927024 -5.286578   \n",
       "4  -1.389050 -0.249650 -1.484476 -1.082134 -1.766944 -2.637741 -3.216591   \n",
       "5   3.048092  1.977339  3.031791  2.628614  3.851059  4.059334  5.035973   \n",
       "6   2.559575  1.386452  3.330073  2.916454  2.168999  4.091941  5.572456   \n",
       "7   3.911820  4.288246  3.188845  3.487083  4.813469  4.118901  3.969267   \n",
       "8   0.247175  0.823766  0.615467  1.011474 -0.081588 -1.572846 -1.133454   \n",
       "9   3.399427  2.654673  1.828234  1.729782  1.066303  2.192939  1.113008   \n",
       "10 -0.457587  0.730442  1.047385  1.968244  2.286972  3.143802  2.492777   \n",
       "11 -6.526980 -5.901748 -7.503806 -8.608189 -8.556024 -9.295587 -7.752572   \n",
       "12  4.239413  3.870231  3.630852  4.730511  5.385775  6.025906  4.408950   \n",
       "13  0.374584  0.357564  0.736716  2.996025  2.953767  1.997822  1.651841   \n",
       "14 -3.841466 -4.384328 -3.968277 -5.124460 -4.343262 -2.848777 -4.918762   \n",
       "15 -1.218447 -2.031811 -3.498236 -2.977171 -3.552959 -3.411005 -3.730334   \n",
       "16 -5.426077 -7.362357 -7.173579 -6.649687 -6.561265 -6.872152 -6.774751   \n",
       "17  1.714090  1.603549  2.623722  1.931672  3.468049  3.754393  4.363237   \n",
       "18  3.127392  3.225117  3.808071  3.408622  3.778678  2.472151  4.130282   \n",
       "19 -0.997071 -2.123897 -2.854574 -3.239454 -3.145103 -3.187274 -3.474161   \n",
       "\n",
       "           14         15  labels  \n",
       "0   10.305125  10.638799       0  \n",
       "1    2.801842   3.180004       0  \n",
       "2   -5.741692  -4.964202       1  \n",
       "3   -6.099724  -7.826007       1  \n",
       "4   -3.528143  -3.471978       1  \n",
       "5    5.392339   6.098912       1  \n",
       "6    7.440015   8.346060       1  \n",
       "7    3.534113   5.383377       1  \n",
       "8   -0.966780  -0.331749       1  \n",
       "9   -0.034461  -0.472281       1  \n",
       "10   1.458534   2.140128       0  \n",
       "11  -9.045429  -8.778378       0  \n",
       "12   4.384624   3.646593       0  \n",
       "13   1.188245   1.669726       1  \n",
       "14  -4.492504  -3.815596       1  \n",
       "15  -3.038795  -2.344046       1  \n",
       "16  -6.375705  -9.148298       1  \n",
       "17   3.317983   4.529129       0  \n",
       "18   4.012118   3.331939       0  \n",
       "19  -3.535788  -3.643093       1  "
      ]
     },
     "execution_count": 13,
     "metadata": {},
     "output_type": "execute_result"
    }
   ],
   "source": [
    "from tslearn.generators import random_walks\n",
    "np.random.seed(0)\n",
    "X = random_walks(n_ts=20, sz=16, d=1)\n",
    "labels = np.random.randint(2, size=20)\n",
    "data = pd.DataFrame(np.squeeze(X))\n",
    "data['labels'] = labels \n",
    "data"
   ]
  },
  {
   "cell_type": "code",
   "execution_count": 14,
   "metadata": {},
   "outputs": [
    {
     "data": {
      "text/plain": [
       "0.13383800961858022"
      ]
     },
     "execution_count": 14,
     "metadata": {},
     "output_type": "execute_result"
    },
    {
     "data": {
      "text/plain": [
       "0.09126917644591379"
      ]
     },
     "execution_count": 14,
     "metadata": {},
     "output_type": "execute_result"
    },
    {
     "data": {
      "text/plain": [
       "0.17953934301338687"
      ]
     },
     "execution_count": 14,
     "metadata": {},
     "output_type": "execute_result"
    },
    {
     "data": {
      "text/plain": [
       "0.1759106080277656"
      ]
     },
     "execution_count": 14,
     "metadata": {},
     "output_type": "execute_result"
    },
    {
     "data": {
      "text/plain": [
       "0.13383800961858022"
      ]
     },
     "execution_count": 14,
     "metadata": {},
     "output_type": "execute_result"
    }
   ],
   "source": [
    "clustering.silhouette_score(X, labels, metric=\"dtw\")  # doctest: +ELLIPSIS\n",
    "clustering.silhouette_score(X, labels, metric=\"euclidean\")  # doctest: +ELLIPSIS\n",
    "clustering.silhouette_score(X, labels, metric=\"softdtw\")  # doctest: +ELLIPSIS\n",
    "clustering.silhouette_score(X, labels, metric=\"softdtw\", metric_params={\"gamma\": 2.})\n",
    "clustering.silhouette_score(metrics.cdist_dtw(X), labels, metric=\"precomputed\")  # doctest: +ELLIPSIS"
   ]
  },
  {
   "cell_type": "code",
   "execution_count": null,
   "metadata": {},
   "outputs": [],
   "source": []
  },
  {
   "cell_type": "code",
   "execution_count": null,
   "metadata": {},
   "outputs": [],
   "source": []
  }
 ],
 "metadata": {
  "kernelspec": {
   "display_name": "Python 3 (ipykernel)",
   "language": "python",
   "name": "python3"
  },
  "language_info": {
   "codemirror_mode": {
    "name": "ipython",
    "version": 3
   },
   "file_extension": ".py",
   "mimetype": "text/x-python",
   "name": "python",
   "nbconvert_exporter": "python",
   "pygments_lexer": "ipython3",
   "version": "3.8.8"
  }
 },
 "nbformat": 4,
 "nbformat_minor": 4
}
