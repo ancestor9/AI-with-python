{
 "cells": [
  {
   "cell_type": "markdown",
   "id": "ed2c8029",
   "metadata": {},
   "source": [
    "# Common pitfalls and recommended practices\n",
    "\n",
    "<img src = 'https://media.istockphoto.com/photos/businessmen-of-the-pitfalls-and-miniature-picture-id657556628?b=1&k=20&m=657556628&s=170667a&w=0&h=vOvwJpfBZjBcgY0J67Fzr6-_bpRJc7V8kcsy_0-e8cQ='>"
   ]
  },
  {
   "cell_type": "code",
   "execution_count": 1,
   "id": "closing-eleven",
   "metadata": {},
   "outputs": [
    {
     "data": {
      "text/html": [
       "<style>.container { width:100% !important; }</style>"
      ],
      "text/plain": [
       "<IPython.core.display.HTML object>"
      ]
     },
     "metadata": {},
     "output_type": "display_data"
    }
   ],
   "source": [
    "from IPython.core.display import display, HTML\n",
    "display(HTML(\"<style>.container { width:100% !important; }</style>\"))\n",
    "from IPython.core.interactiveshell import InteractiveShell\n",
    "InteractiveShell.ast_node_interactivity = 'all'\n",
    "import warnings\n",
    "warnings.filterwarnings(action='ignore') "
   ]
  },
  {
   "cell_type": "code",
   "execution_count": 2,
   "id": "45c61aea",
   "metadata": {},
   "outputs": [],
   "source": [
    "import seaborn as sns\n",
    "import matplotlib.pyplot as plt\n",
    "get_ipython().run_line_magic('matplotlib', 'inline')\n",
    "import pandas as pd\n",
    "import numpy as np"
   ]
  },
  {
   "cell_type": "markdown",
   "id": "81d74cb8",
   "metadata": {},
   "source": [
    "# 1. Inconsistent preprocessing"
   ]
  },
  {
   "cell_type": "code",
   "execution_count": 3,
   "id": "8d24093c",
   "metadata": {},
   "outputs": [],
   "source": [
    "from sklearn.datasets import make_regression\n",
    "from sklearn.model_selection import train_test_split\n",
    "\n",
    "random_state = 42\n",
    "X, y = make_regression(random_state=random_state, n_features=1, noise=1)\n",
    "X_train, X_test, y_train, y_test = train_test_split(\n",
    "    X, y, test_size=0.4, random_state=random_state)"
   ]
  },
  {
   "cell_type": "markdown",
   "id": "8cbcfad1",
   "metadata": {},
   "source": [
    "## <font color='red'> Wrong"
   ]
  },
  {
   "cell_type": "code",
   "execution_count": 4,
   "id": "fd50ed5a",
   "metadata": {},
   "outputs": [
    {
     "data": {
      "text/plain": [
       "62.80867119249539"
      ]
     },
     "execution_count": 4,
     "metadata": {},
     "output_type": "execute_result"
    }
   ],
   "source": [
    "from sklearn.metrics import mean_squared_error\n",
    "from sklearn.linear_model import LinearRegression\n",
    "from sklearn.preprocessing import StandardScaler\n",
    "\n",
    "scaler = StandardScaler()\n",
    "X_train_transformed = scaler.fit_transform(X_train)\n",
    "model = LinearRegression().fit(X_train_transformed, y_train)\n",
    "mean_squared_error(y_test, model.predict(X_test))"
   ]
  },
  {
   "cell_type": "markdown",
   "id": "9157e92e",
   "metadata": {},
   "source": [
    "## <font color='blue'> Right"
   ]
  },
  {
   "cell_type": "code",
   "execution_count": 5,
   "id": "63cdfffc",
   "metadata": {},
   "outputs": [
    {
     "data": {
      "text/plain": [
       "0.902797546636954"
      ]
     },
     "execution_count": 5,
     "metadata": {},
     "output_type": "execute_result"
    }
   ],
   "source": [
    "X_test_transformed = scaler.transform(X_test)\n",
    "mean_squared_error(y_test, model.predict(X_test_transformed))"
   ]
  },
  {
   "cell_type": "markdown",
   "id": "818f36a2",
   "metadata": {},
   "source": [
    "## <font color='green'> pipeline"
   ]
  },
  {
   "cell_type": "code",
   "execution_count": 6,
   "id": "2bd11bae",
   "metadata": {},
   "outputs": [
    {
     "data": {
      "text/plain": [
       "Pipeline(steps=[('standardscaler', StandardScaler()),\n",
       "                ('linearregression', LinearRegression())])"
      ]
     },
     "execution_count": 6,
     "metadata": {},
     "output_type": "execute_result"
    },
    {
     "data": {
      "text/plain": [
       "0.902797546636954"
      ]
     },
     "execution_count": 6,
     "metadata": {},
     "output_type": "execute_result"
    }
   ],
   "source": [
    "from sklearn.pipeline import make_pipeline\n",
    "\n",
    "model = make_pipeline(StandardScaler(), LinearRegression())\n",
    "model.fit(X_train, y_train)\n",
    "\n",
    "mean_squared_error(y_test, model.predict(X_test))"
   ]
  },
  {
   "cell_type": "markdown",
   "id": "236e6b5a",
   "metadata": {},
   "source": [
    "# 2. Data leakage\n",
    "## 2.1. Data leakage during pre-processing"
   ]
  },
  {
   "cell_type": "code",
   "execution_count": 10,
   "id": "de73f496",
   "metadata": {},
   "outputs": [],
   "source": [
    "n_samples, n_features, n_classes = 200, 1000, 2\n",
    "rng = np.random.RandomState(42)\n",
    "X = rng.standard_normal((n_samples, n_features))\n",
    "y = rng.choice(n_classes, n_samples)"
   ]
  },
  {
   "cell_type": "markdown",
   "id": "d904196d",
   "metadata": {},
   "source": [
    "## <font color='red'> Wrong"
   ]
  },
  {
   "cell_type": "code",
   "execution_count": 11,
   "id": "e5b4023d",
   "metadata": {},
   "outputs": [
    {
     "data": {
      "text/plain": [
       "GradientBoostingClassifier(random_state=1)"
      ]
     },
     "execution_count": 11,
     "metadata": {},
     "output_type": "execute_result"
    },
    {
     "data": {
      "text/plain": [
       "0.64"
      ]
     },
     "execution_count": 11,
     "metadata": {},
     "output_type": "execute_result"
    }
   ],
   "source": [
    "from sklearn.model_selection import train_test_split\n",
    "from sklearn.feature_selection import SelectKBest\n",
    "from sklearn.ensemble import GradientBoostingClassifier\n",
    "from sklearn.metrics import accuracy_score\n",
    "\n",
    "# Incorrect preprocessing: the entire data is transformed\n",
    "X_selected = SelectKBest(k=25).fit_transform(X, y)\n",
    "\n",
    "X_train, X_test, y_train, y_test = train_test_split(\n",
    "    X_selected, y, random_state=42)\n",
    "gbc = GradientBoostingClassifier(random_state=1)\n",
    "gbc.fit(X_train, y_train)\n",
    "\n",
    "y_pred = gbc.predict(X_test)\n",
    "accuracy_score(y_test, y_pred)"
   ]
  },
  {
   "cell_type": "markdown",
   "id": "09bbc566",
   "metadata": {},
   "source": [
    "## <font color='blue'> Right"
   ]
  },
  {
   "cell_type": "code",
   "execution_count": 12,
   "id": "f7b5ea42",
   "metadata": {},
   "outputs": [
    {
     "data": {
      "text/plain": [
       "GradientBoostingClassifier(random_state=1)"
      ]
     },
     "execution_count": 12,
     "metadata": {},
     "output_type": "execute_result"
    },
    {
     "data": {
      "text/plain": [
       "0.48"
      ]
     },
     "execution_count": 12,
     "metadata": {},
     "output_type": "execute_result"
    }
   ],
   "source": [
    "X_train, X_test, y_train, y_test = train_test_split(\n",
    "    X, y, random_state=42)\n",
    "\n",
    "select = SelectKBest(k=25)\n",
    "X_train_selected = select.fit_transform(X_train, y_train)\n",
    "\n",
    "gbc = GradientBoostingClassifier(random_state=1)\n",
    "gbc.fit(X_train_selected, y_train)\n",
    "\n",
    "X_test_selected = select.transform(X_test)\n",
    "y_pred = gbc.predict(X_test_selected)\n",
    "accuracy_score(y_test, y_pred)"
   ]
  },
  {
   "cell_type": "markdown",
   "id": "1a2e6db7",
   "metadata": {},
   "source": [
    "## <font color='green'> pipeline"
   ]
  },
  {
   "cell_type": "code",
   "execution_count": 14,
   "id": "5e6aadb4",
   "metadata": {},
   "outputs": [
    {
     "data": {
      "text/plain": [
       "Pipeline(steps=[('selectkbest', SelectKBest(k=25)),\n",
       "                ('gradientboostingclassifier',\n",
       "                 GradientBoostingClassifier(random_state=1))])"
      ]
     },
     "execution_count": 14,
     "metadata": {},
     "output_type": "execute_result"
    },
    {
     "data": {
      "text/plain": [
       "0.48"
      ]
     },
     "execution_count": 14,
     "metadata": {},
     "output_type": "execute_result"
    }
   ],
   "source": [
    "from sklearn.pipeline import make_pipeline\n",
    "X_train, X_test, y_train, y_test = train_test_split(\n",
    "    X, y, random_state=42)\n",
    "pipeline = make_pipeline(SelectKBest(k=25),\n",
    "                         GradientBoostingClassifier(random_state=1))\n",
    "pipeline.fit(X_train, y_train)\n",
    "\n",
    "y_pred = pipeline.predict(X_test)\n",
    "accuracy_score(y_test, y_pred)"
   ]
  },
  {
   "cell_type": "markdown",
   "id": "6dfb2f75",
   "metadata": {},
   "source": [
    "# 2.2. How to avoid data leakage\n",
    "\n",
    "- Always split the data into train and test subsets first, particularly before any preprocessing steps.(선교후처)\n",
    "- Never include test data when using the fit and fit_transform methods. Using all the data, e.g., fit(X), can result in overly optimistic scores.\n",
    "- Conversely, the transform method should be used on both train and test subsets as the same preprocessing should be applied to all the data. This can be achieved by using fit_transform on the train subset and transform on the test subset.\n",
    "- The scikit-learn pipeline is a great way to prevent data leakage as it ensures that the appropriate method is performed on the correct data subset. The pipeline is ideal for use in cross-validation and hyper-parameter tuning functions."
   ]
  },
  {
   "cell_type": "markdown",
   "id": "d3342457",
   "metadata": {},
   "source": [
    "# 3. Controlling randomness\n",
    "## 3.1. Using None or RandomState instances, and repeated calls to fit and split\n",
    "### 3.1.1. Estimators"
   ]
  },
  {
   "cell_type": "code",
   "execution_count": 28,
   "id": "50ec6750",
   "metadata": {},
   "outputs": [
    {
     "data": {
      "text/plain": [
       "RandomState(MT19937) at 0x29DCF862640"
      ]
     },
     "execution_count": 28,
     "metadata": {},
     "output_type": "execute_result"
    }
   ],
   "source": [
    "np.random.RandomState(0)"
   ]
  },
  {
   "cell_type": "code",
   "execution_count": 82,
   "id": "7ec1135f",
   "metadata": {},
   "outputs": [
    {
     "data": {
      "text/plain": [
       "array([[ 8.85418642,  4.79084103, -3.13077794,  8.11915045, -0.56479934]])"
      ]
     },
     "execution_count": 82,
     "metadata": {},
     "output_type": "execute_result"
    },
    {
     "data": {
      "text/plain": [
       "array([[ 6.70814003,  5.25291366, -7.55212743,  5.18197458,  1.37845099]])"
      ]
     },
     "execution_count": 82,
     "metadata": {},
     "output_type": "execute_result"
    }
   ],
   "source": [
    "from sklearn.linear_model import SGDClassifier\n",
    "from sklearn.datasets import make_classification\n",
    "import numpy as np\n",
    "\n",
    "rng = np.random.RandomState(0)\n",
    "X, y = make_classification(n_features=5, random_state=rng)\n",
    "sgd = SGDClassifier(random_state=rng)\n",
    "sgd.fit(X, y).coef_\n",
    "sgd.fit(X, y).coef_"
   ]
  },
  {
   "cell_type": "markdown",
   "id": "6c9230b2",
   "metadata": {},
   "source": [
    "### 3.1.2. CV splitters"
   ]
  },
  {
   "cell_type": "code",
   "execution_count": 43,
   "id": "7e003a8c",
   "metadata": {},
   "outputs": [
    {
     "name": "stdout",
     "output_type": "stream",
     "text": [
      "[0 3 5 6 7] [1 2 4 8 9]\n",
      "[1 2 4 8 9] [0 3 5 6 7]\n",
      "****************************************************************************************************\n",
      "[0 4 6 7 8] [1 2 3 5 9]\n",
      "[1 2 3 5 9] [0 4 6 7 8]\n"
     ]
    }
   ],
   "source": [
    "from sklearn.model_selection import KFold\n",
    "\n",
    "X = y = np.arange(10)\n",
    "rng = np.random.RandomState(0)\n",
    "cv = KFold(n_splits=2, shuffle=True, random_state=rng)\n",
    "\n",
    "for train, test in cv.split(X, y):\n",
    "    print(train, test)\n",
    "print('*'*100)\n",
    "for train, test in cv.split(X, y):\n",
    "    print(train, test)"
   ]
  },
  {
   "cell_type": "markdown",
   "id": "8c87a31e",
   "metadata": {},
   "source": [
    "## 3.2. Common pitfalls and subtleties\n",
    "### 3.2.1. Estimators"
   ]
  },
  {
   "cell_type": "code",
   "execution_count": 46,
   "id": "e618acaa",
   "metadata": {},
   "outputs": [
    {
     "data": {
      "text/plain": [
       "array([0.85, 0.95, 0.95, 0.9 , 0.9 ])"
      ]
     },
     "execution_count": 46,
     "metadata": {},
     "output_type": "execute_result"
    },
    {
     "data": {
      "text/plain": [
       "array([0.9 , 0.95, 0.95, 0.9 , 0.9 ])"
      ]
     },
     "execution_count": 46,
     "metadata": {},
     "output_type": "execute_result"
    }
   ],
   "source": [
    "from sklearn.ensemble import RandomForestClassifier\n",
    "from sklearn.datasets import make_classification\n",
    "from sklearn.model_selection import cross_val_score\n",
    "import numpy as np\n",
    "\n",
    "X, y = make_classification(random_state=0)\n",
    "\n",
    "rf_123 = RandomForestClassifier(random_state=123)\n",
    "cross_val_score(rf_123, X, y)\n",
    "\n",
    "\n",
    "rf_inst = RandomForestClassifier(random_state=np.random.RandomState(0))\n",
    "cross_val_score(rf_inst, X, y)"
   ]
  },
  {
   "cell_type": "code",
   "execution_count": 55,
   "id": "ea3f3daa",
   "metadata": {},
   "outputs": [
    {
     "name": "stdout",
     "output_type": "stream",
     "text": [
      "[0.8  0.75 0.75 0.7  0.85]\n",
      "[0.85 0.95 0.95 0.85 0.95]\n"
     ]
    }
   ],
   "source": [
    "from sklearn.naive_bayes import GaussianNB\n",
    "from sklearn.discriminant_analysis import LinearDiscriminantAnalysis\n",
    "from sklearn.datasets import make_classification\n",
    "from sklearn.model_selection import KFold\n",
    "from sklearn.model_selection import cross_val_score\n",
    "import numpy as np\n",
    "\n",
    "rng = np.random.RandomState(0)\n",
    "X, y = make_classification(random_state=rng)\n",
    "cv = KFold(shuffle=True, random_state=rng)\n",
    "lda = LinearDiscriminantAnalysis()\n",
    "nb = GaussianNB()\n",
    "\n",
    "for est in (lda, nb):\n",
    "    print(cross_val_score(est, X, y, cv=cv))"
   ]
  },
  {
   "cell_type": "code",
   "execution_count": 90,
   "id": "6af875b1",
   "metadata": {},
   "outputs": [
    {
     "data": {
      "text/plain": [
       "0.84"
      ]
     },
     "execution_count": 90,
     "metadata": {},
     "output_type": "execute_result"
    }
   ],
   "source": [
    "from sklearn.ensemble import RandomForestClassifier\n",
    "from sklearn.datasets import make_classification\n",
    "from sklearn.model_selection import train_test_split\n",
    "import numpy as np\n",
    "\n",
    "rng = np.random.RandomState(0)\n",
    "X, y = make_classification(random_state=rng)\n",
    "rf = RandomForestClassifier(random_state=rng)\n",
    "X_train, X_test, y_train, y_test = train_test_split(X, y,\n",
    "                                                    random_state=rng)\n",
    "rf.fit(X_train, y_train).score(X_test, y_test)"
   ]
  },
  {
   "cell_type": "markdown",
   "id": "running-fifteen",
   "metadata": {},
   "source": [
    "# End"
   ]
  }
 ],
 "metadata": {
  "kernelspec": {
   "display_name": "Python 3 (ipykernel)",
   "language": "python",
   "name": "python3"
  },
  "language_info": {
   "codemirror_mode": {
    "name": "ipython",
    "version": 3
   },
   "file_extension": ".py",
   "mimetype": "text/x-python",
   "name": "python",
   "nbconvert_exporter": "python",
   "pygments_lexer": "ipython3",
   "version": "3.8.8"
  }
 },
 "nbformat": 4,
 "nbformat_minor": 5
}
